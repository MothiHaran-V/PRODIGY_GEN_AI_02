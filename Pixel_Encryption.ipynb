{
  "nbformat": 4,
  "nbformat_minor": 0,
  "metadata": {
    "colab": {
      "provenance": []
    },
    "kernelspec": {
      "name": "python3",
      "display_name": "Python 3"
    },
    "language_info": {
      "name": "python"
    }
  },
  "cells": [
    {
      "cell_type": "code",
      "execution_count": 2,
      "metadata": {
        "id": "gvIjAqLTbofJ"
      },
      "outputs": [],
      "source": [
        "from PIL import Image\n",
        "\n",
        "def encrypt_image(image_path, key, output_path):\n",
        "    img = Image.open(image_path)\n",
        "    pixels = img.load()\n",
        "\n",
        "    for i in range(img.size[0]):\n",
        "        for j in range(img.size[1]):\n",
        "            r, g, b = pixels[i, j]\n",
        "            pixels[i, j] = (\n",
        "                (r + key) % 256,\n",
        "                (g + key) % 256,\n",
        "                (b + key) % 256\n",
        "            )\n",
        "\n",
        "    img.save(output_path)\n",
        "    print(\"Image encrypted and saved as\", output_path)\n",
        "\n",
        "def decrypt_image(image_path, key, output_path):\n",
        "    img = Image.open(image_path)\n",
        "    pixels = img.load()\n",
        "\n",
        "    for i in range(img.size[0]):\n",
        "        for j in range(img.size[1]):\n",
        "            r, g, b = pixels[i, j]\n",
        "            pixels[i, j] = (\n",
        "                (r - key) % 256,\n",
        "                (g - key) % 256,\n",
        "                (b - key) % 256\n",
        "            )\n",
        "\n",
        "    img.save(output_path)\n",
        "    print(\"Image decrypted and saved as\", output_path)\n",
        "\n",
        "# === Example Usage ===\n",
        "# Encrypt: encrypt_image(\"original.png\", 50, \"encrypted.png\")\n",
        "# Decrypt: decrypt_image(\"encrypted.png\", 50, \"decrypted.png\")"
      ]
    }
  ]
}